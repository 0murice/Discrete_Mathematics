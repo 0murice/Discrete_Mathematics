{
 "cells": [
  {
   "cell_type": "code",
   "execution_count": 1,
   "id": "1ef8d5f9",
   "metadata": {},
   "outputs": [],
   "source": [
    "from matplotlib_venn import venn2, venn2_circles, venn2_unweighted\n",
    "from matplotlib_venn import venn3, venn3_circles\n",
    "from matplotlib import pyplot as plt\n",
    "import pandas as pd\n",
    "%matplotlib inline"
   ]
  },
  {
   "cell_type": "code",
   "execution_count": 2,
   "id": "6e4f64bc",
   "metadata": {},
   "outputs": [],
   "source": [
    "def drawVenn2(A,B,labels = ('A', 'B')):\n",
    "    '''\n",
    "    listing elements in Venn diagram of two sets\n",
    "    '''\n",
    "    v2=venn2([A,B],set_labels = labels);\n",
    "    v2.get_label_by_id('01').set_text(', '.join(map(str,B-A)))\n",
    "    v2.get_label_by_id('10').set_text(', '.join(map(str,A-B)))\n",
    "    if A&B:\n",
    "        v2.get_label_by_id('11').set_text(', '.join(map(str,A&B)))"
   ]
  },
  {
   "cell_type": "code",
   "execution_count": 3,
   "id": "f918d6a4",
   "metadata": {},
   "outputs": [],
   "source": [
    "def drawVenn3(A,B,C,labels = ('A', 'B', 'C')):\n",
    "    '''\n",
    "    listing elements in Venn diagram of three sets, A, B, C\n",
    "    '''\n",
    "    v3=venn3([A,B,C],set_labels = labels);\n",
    "    if A-B-C:\n",
    "        v3.get_label_by_id('100').set_text('\\n'.join(map(str,A-B-C)))\n",
    "        v3.get_patch_by_id('100').set_alpha(0.6)\n",
    "        v3.get_patch_by_id('100').set_facecolor('Yellow')\n",
    "    if A&B-C:\n",
    "        v3.get_label_by_id('110').set_text('\\n'.join(map(str,A&B-C)))\n",
    "        v3.get_patch_by_id('110').set_alpha(0.3)\n",
    "        v3.get_patch_by_id('110').set_facecolor('Red')\n",
    "    if B-C-A:\n",
    "        v3.get_label_by_id('010').set_text('\\n'.join(map(str,B-C-A)))\n",
    "        v3.get_patch_by_id('010').set_alpha(0.6)\n",
    "        v3.get_patch_by_id('010').set_facecolor('Magenta')\n",
    "    if A&C-B:\n",
    "        v3.get_label_by_id('101').set_text('\\n'.join(map(str,A&C-B)))\n",
    "        v3.get_patch_by_id('101').set_alpha(0.3)\n",
    "        v3.get_patch_by_id('101').set_facecolor('Green')\n",
    "    if A&B&C:\n",
    "        v3.get_label_by_id('111').set_text('\\n'.join(map(str,A&B&C)))\n",
    "        v3.get_patch_by_id('111').set_alpha(0.1)\n",
    "        v3.get_patch_by_id('111').set_facecolor('Black')\n",
    "    if B&C-A:\n",
    "        v3.get_label_by_id('011').set_text('\\n'.join(map(str,B&C-A)))\n",
    "        v3.get_patch_by_id('011').set_alpha(0.3)\n",
    "        v3.get_patch_by_id('011').set_facecolor('Blue')\n",
    "    if C-B-A:\n",
    "        v3.get_label_by_id('001').set_text('\\n'.join(map(str,C-B-A)))\n",
    "        v3.get_patch_by_id('001').set_alpha(0.6)\n",
    "        v3.get_patch_by_id('001').set_facecolor('Cyan')"
   ]
  },
  {
   "cell_type": "markdown",
   "id": "92e1b34a",
   "metadata": {},
   "source": [
    "# 1. Proving Identities\n",
    "---\n",
    "#### Use Latex programming to show your solutions.\n",
    "#### Be Resourceful, use the internet.\n",
    "Given: A and B are sets, $\\exists$ x such that (x $\\in$ A $\\land$ x $\\in$ B)<br>\n",
    "Show that:\n",
    "- A\\B = A $\\cap$ $B^{c}$ \n",
    "- B = (B $\\cap$ A) $\\cup$ (B $\\cap$ $A^{c}$)\n",
    "- B\\A = B $\\cap$ $A^{c}$\n",
    "- A $\\cup$ B = A $\\cup$ (B $\\cap$ $A^{c}$)\n",
    "- $(\\textbf{U}_{i=1}^{\\infty} A_{i}^{c})^{c}$ = $\\cap_{i=1}^{\\infty}A_{i}$\n",
    "- |A $\\cup$ B| = |A| + |B| - |A $\\cap$ B|"
   ]
  },
  {
   "cell_type": "markdown",
   "id": "5579a9d6-61d0-4cc7-afe6-511ac16e6239",
   "metadata": {},
   "source": [
    "A\\B = A $\\cap$ $B^{c}$ \n",
    "- LHS = A\\B\n",
    "- LHS = {x|x $\\in$ A $\\wedge$ x $\\notin$ B}\n",
    "- LHS = {x|x $\\in$ A $\\wedge$ x $\\in$ B'} $- De Morgan's Law$\n",
    "- LHS = A $\\cap$ $B^{c}$ <br>\n",
    "\n",
    "Answer: A $\\cap$ $B^{c}$  = A $\\cap$ $B^{c}$ $\\therefore$ A\\B = A $\\cap$ $B^{c}$ is true.\n",
    "***"
   ]
  },
  {
   "cell_type": "markdown",
   "id": "85f9727a-e301-48c9-8d64-3e2b231c718c",
   "metadata": {},
   "source": [
    "B = (B $\\cap$ A) $\\cup$ (B $\\cap$ $A^{c}$)<br>\n",
    "<br>\n",
    "- RHS = (B $\\cap$ A) $\\cup$ (B $\\cap$ $A^{c}$ )\n",
    "- RHS = {(x|x $\\in$ B $\\wedge$ x $\\in$ A) $\\vee$ (x $\\in$ B $\\wedge$ x $\\in$ A')}\n",
    "- Distributive Law of Logical Equivalence states p $\\wedge$(q $\\vee$ r) = (p $\\wedge$ q) $\\vee$ (p $\\wedge$ r)\n",
    "- $\\therefore$ {(x|x $\\in$ B $\\wedge$ x $\\in$ A) $\\vee$ (x $\\in$ B $\\wedge$ x $\\in$ A')} = {x|x $\\in$ B $\\vee$ (x $\\in$ A $\\wedge$ x $\\in$ A')}\n",
    "- RHS = {x|x $\\in$ B $\\vee$ (x $\\in$ A $\\wedge$ x $\\in$ A')}\n",
    "- RHS = {x|x $\\in$ B $\\vee$ False} *- x cannot \"be and not be\" in A simultaneously, therefore false*\n",
    "- RHS = {x|x $\\in$ B} = B <br>\n",
    "\n",
    "Answer: B = B $\\therefore$ B = (B $\\cap$ A) $\\cup$ (B $\\cap$ $A^{c}$) is true.\n",
    "***"
   ]
  },
  {
   "cell_type": "markdown",
   "id": "9b0f47e2-e483-4543-bef0-6908370400a0",
   "metadata": {},
   "source": [
    "B\\A = B $\\cap$ $A^{c}$\n",
    "- LHS = B\\A\n",
    "- LHS = {x|x $\\in$ B $\\wedge$ x $\\notin$ A}\n",
    "- LHS = {x|x $\\in$ B $\\wedge$ x $\\in$ A'} $- De Morgan's Law$\n",
    "- LHS = B $\\cap$ $A^{c}$ <br>\n",
    "\n",
    "Answer: B $\\cap$ $A^{c}$  = B $\\cap$ $A^{c}$ $\\therefore$ B\\A = B $\\cap$ $A^{c}$ is true.\n",
    "***"
   ]
  },
  {
   "cell_type": "markdown",
   "id": "06b0a8c7-e192-45a6-bae9-e88a532fe3a9",
   "metadata": {},
   "source": [
    "A $\\cup$ B = A $\\cup$ (B $\\cap$ $A^{c}$)<br>\n",
    "<br>\n",
    "- RHS = A $\\cup$ (B $\\cap$ $A^{c}$)\n",
    "- RHS = {x|x $\\in$ A $\\vee$ (x $\\in$ B $\\wedge$ x $\\in$ $A^{c}$)}\n",
    "- Distributive Law of Logical Equivalence states p $\\wedge$(q $\\vee$ r) = (p $\\wedge$ q) $\\vee$ (p $\\wedge$ r)\n",
    "- $\\therefore$ = {x|(x $\\in$ A $\\wedge$ x $\\in$ B) $\\vee$ (x $\\in$ A $\\wedge$ x $\\in$ $A^{c}$)}\n",
    "- RHS = {x|(x $\\in$ A $\\wedge$ x $\\in$ B) $\\vee$ False} *- x cannot \"be and not be\" in A simultaneously, therefore false*\n",
    "- RHS = {x|x $\\in$ A $\\wedge$ x $\\in$ B}\n",
    "- RHS = A $\\cup$ B <br>\n",
    "\n",
    "Answer: A $\\cup$ B = A $\\cup$ B $\\therefore$ A $\\cup$ B = A $\\cup$ (B $\\cap$ $A^{c}$) is true.\n",
    "***"
   ]
  },
  {
   "cell_type": "markdown",
   "id": "d5713504-9569-4b3b-b0a9-855ddf9747c2",
   "metadata": {},
   "source": [
    "$(\\bigcup$ $ _{i=1}^{\\infty} A_{i}^{c})^{c}$ = $\\cap_{i=1}^{\\infty}A_{i}$<br>\n",
    "<br>\n",
    "- LHS = $(\\bigcup$ $ _{i=1}^{\\infty} A_{i}^{c})^{c}$\n",
    "- LHS = $(\\bigcap$ $ _{i=1}^{\\infty} (A_{i}^{c})^{c})$ *- De Morgan's Law*\n",
    "- LHS = $\\bigcap$ $ _{i=1}^{\\infty} A_{i}$ *- De Morgan's Law* <br>\n",
    "\n",
    "Answer: $\\bigcap$ $ _{i=1}^{\\infty} A_{i}$ = $\\bigcap$ $ _{i=1}^{\\infty} A_{i}$ $\\therefore$ $(\\bigcup$ $ _{i=1}^{\\infty} A_{i}^{c})^{c}$ = $\\cap_{i=1}^{\\infty}A_{i}$ is true.\n",
    "***"
   ]
  },
  {
   "cell_type": "markdown",
   "id": "cc3ab407-5545-4238-b67e-f542f51ef464",
   "metadata": {},
   "source": [
    "|A $\\cup$ B| = |A| + |B| - |A $\\cap$ B| <br>\n",
    "<br>\n",
    " - Proof: Suppose A = {1,2,3,4} if $\\exists$ x such that (x $\\in$ A $\\land$ x $\\in$ B), $\\therefore$ B = {2,3,4,5}\n",
    "  - We then can say |{1,2,3,4}$\\cup${2,3,4,5}| = |{1,2,3,4}|+|{2,3,4,5}|-|{1,2,3,4}$\\cap${2,3,4,5}|\n",
    "  - LHS, |{1,2,3,4}$\\cup${2,3,4,5}|= 4\n",
    "  - RHS, |{1,2,3,4}|+|{2,3,4,5}|-|{1,2,3,4}$\\cap${2,3,4,5}| = 4 + 4 - 4 = 4<br>\n",
    "  \n",
    "Answer: 4=4 $\\therefore\\quad$|A $\\cup$ B| = |A| + |B| - |A $\\cap$ B|"
   ]
  },
  {
   "cell_type": "markdown",
   "id": "01f00f0b",
   "metadata": {},
   "source": [
    "# 2. Sets and Subsets\n",
    "---\n",
    "#### Use Latex Programming to show your solutions.\n",
    "- If A = {2,3,4,5}, and B = {$x \\in \\mathbb{N} | x \\ is \\ even$}. Is A $\\subset$ B? Show a proof.\n",
    "- Let sets $\\textbf{A} = \\{x|x \\in \\mathbb{Z}, 0 \\leq x \\leq 9\\},\n",
    "\\textbf{B} = \\{ 2,4,6,8\\},\n",
    "\\ and \\ \n",
    "\\textbf{C}  = \\{ 1,3,5,7,9\\}\n",
    "\\ and \\ \\textbf{D}  = \\{ 3,4,5\\}$\n",
    "Find a set $\\textbf{X}$ which will satisfy the following conditions:\n",
    "    1. $\\textbf{X} \\ and \\ \\textbf{B}$ are disjoint.\n",
    "    2. $\\textbf{X} \\subseteq \\textbf{D}$ but $\\textbf{X} \\nsubseteq \\textbf{B}$.\n",
    "    3. $\\textbf{X} \\subseteq \\textbf{A}$ but $\\textbf{X} \\not\\subset \\textbf{C}$."
   ]
  },
  {
   "cell_type": "markdown",
   "id": "64a31cb6-d068-4a4d-9a35-77a81d236009",
   "metadata": {},
   "source": [
    "# Solutions and Answers\n",
    "### A. Solution:  \n",
    "A = {2,3,4,5}<br>\n",
    "B = {2,4,6,8,10,12...}<br>\n",
    "A $\\subset$ B $\\iff$ $\\forall$ x $\\exists$ x :(x $\\in$ A $\\to$ x $\\in$ B) $\\land$ $\\exists$ x: (x $\\in$B $\\cap$ x $\\notin$ A). (First condition fails as 3 and 5 from set A are not found in set B.)<br>\n",
    "\n",
    "### A. Answer:\n",
    "- $ \\therefore A \\nsubseteq B$  (Therefore, A is not a proper subset of B)"
   ]
  },
  {
   "cell_type": "markdown",
   "id": "c503dc5c-0af4-434a-b688-b5a1df9be95c",
   "metadata": {},
   "source": [
    "### B. Solutions:\n",
    "\n",
    "1. X $\\cap$ B = $\\emptyset$<br>\n",
    "X = B$^c$<br>\n",
    "B$^c$ = $U$ - B<br>\n",
    "$U$ = A $\\cup$ B $\\cup$ C $\\cup$ D = {0,1,2,3,4,5,6,7,8,9}<br>\n",
    "$U$ - B = {0,1,2,3,4,5,6,7,8,9} - {2,4,6,8} = {0,1,3,5,7,9}<br>\n",
    "X = {0,1,3,5,7,9}<br>\n",
    "Proof: (X $\\cap$ B = $\\emptyset$) = ( {0,1,3,5,7,9} $\\cap$ {2,4,6,8} = $\\emptyset$} )<br>\n",
    "1. Ans: For X to be disjoint to B X = {0,1,3,5,7,9}<br>\n",
    "<br>\n",
    "2.  $\\textbf{X} \\subseteq \\textbf{D} \\wedge \\textbf{X} \\nsubseteq \\textbf{B}$.<br>\n",
    "X = D = {3,4,5}<br>\n",
    "X = {3,4,5}<br>\n",
    "(X - B) = ( {3,4,5} - {2,4,6,8} )<br>\n",
    "X = {3,5}<br>\n",
    "2. Ans: For X to be a subset of D but not a subset of B X = {3,5}<br>\n",
    "<br>\n",
    "3.  $\\textbf{X} \\subseteq \\textbf{A} \\wedge \\textbf{X} \\nsubseteq \\textbf{C}$.<br>\n",
    "X = A = {0,1,2,3,4,5,6,7,8,9}<br>\n",
    "X = {0,1,2,3,4,5,6,7,8,9}<br>\n",
    "(X - C) = ( {0,1,2,3,4,5,6,7,8,9} - {1,3,5,7,9} )<br>\n",
    "X = {0,2,4,6,8}<br>\n",
    "<br>\n",
    "3. Ans: For X to be a subset of A but not a subset of C) X = {0,2,4,6,8} - <br>"
   ]
  },
  {
   "cell_type": "markdown",
   "id": "9bba9fd3",
   "metadata": {},
   "source": [
    "# 3. Set Operations\n",
    "---\n",
    "#### Use this website https://learnpython.com/blog/set-operations-in-python/ to learn about set Operations in Python.\n",
    "##### 1. First solve the problems manually, use Latex programming to show your manual solutions.\n",
    "##### 2. Second, solve the problem using python. Show your codes for the pythonic solutions.\n",
    "##### Hint: You know your solutions is right if your manual solution is equivalent to your pythonic solution.\n",
    "\n",
    "Given:<br>\n",
    "$\\textbf{U} = \\{1,2,3,4,5\\}$<br>\n",
    "$\\textbf{A} = \\{1,2,3,4,5\\}$<br>\n",
    "$\\textbf{B} = \\{4,5,6,7\\}$<br>\n",
    "$\\textbf{C} = \\{5,6,7,8,9\\}$<br>\n",
    "$\\textbf{D} = \\{1,3,5,7,9\\}$<br>\n",
    "$\\textbf{E} = \\{2,4,6,8\\}$<br>\n",
    "$\\textbf{F} = \\{1,5,9\\}$<br>\n",
    "- $\\textbf{C} \\oplus \\textbf{D}$\n",
    "- $\\textbf{A} \\backslash \\textbf{B}$\n",
    "- $\\textbf{B} \\backslash \\textbf{A}$\n",
    "- $\\textbf{E} \\oplus \\textbf{F}$"
   ]
  },
  {
   "cell_type": "markdown",
   "id": "8afc4194-2ece-476b-b6b4-0ce4c0a9109e",
   "metadata": {},
   "source": [
    "$C \\oplus D$ <br>\n",
    "$C \\oplus D = (C \\cup D)\\setminus(C \\cap D) = (C\\setminus D) \\cup (D\\setminus C)$ <br>\n",
    "$C \\oplus D = \\{6, 8\\} \\cup \\{1, 3\\}$ <br>\n",
    "$C \\oplus D = \\{ 1, 3, 6, 8\\}$ <br>\n",
    "<br>\n",
    "\n",
    "\n",
    "$A \\setminus B$ <br>\n",
    "$A \\setminus B = \\{ 1, 2, 3\\} $\n",
    "\n",
    "$B \\setminus A$ <br>\n",
    "$B \\setminus A = \\{ 6, 7\\} $ <br>\n",
    "<br>\n",
    "\n",
    "\n",
    "$E \\oplus F$ <br>\n",
    "$E \\oplus F = (E \\cup F)\\setminus(E \\cap F) = (E\\setminus F) \\cup (E\\setminus F)$ <br>\n",
    "$E \\oplus F = \\{2, 4, 6, 8\\} \\cup \\{1, 5, 9\\}$ <br>\n",
    "$E \\oplus F = \\{ 1, 2, 4, 5, 6, 8, 9\\}$"
   ]
  },
  {
   "cell_type": "code",
   "execution_count": 8,
   "id": "853935b8-d731-4ebd-8fe1-b15675a92837",
   "metadata": {},
   "outputs": [
    {
     "name": "stdout",
     "output_type": "stream",
     "text": [
      "{1, 3, 6, 8}\n",
      "{1, 2, 3}\n",
      "{6, 7}\n",
      "{1, 2, 4, 5, 6, 8, 9}\n"
     ]
    }
   ],
   "source": [
    "C = {5, 6, 7, 8, 9}\n",
    "D = {1, 3, 5, 7, 9}\n",
    "\n",
    "result = C ^ D \n",
    "print(result)\n",
    "\n",
    "A = {1, 2, 3, 4, 5 }\n",
    "B = {4, 5, 6, 7}\n",
    "\n",
    "result_in_A = A - B \n",
    "print(result_in_A)\n",
    "\n",
    "A = {1, 2, 3, 4, 5 }\n",
    "B = {4, 5, 6, 7}\n",
    "\n",
    "result_in_B = B - A \n",
    "print(result_in_B)\n",
    "\n",
    "E = {2, 4, 6, 8}\n",
    "F = {1, 5, 9}\n",
    "\n",
    "result = E ^ F \n",
    "print(result)"
   ]
  },
  {
   "cell_type": "markdown",
   "id": "65991b97",
   "metadata": {},
   "source": [
    "# 4. Finite Sets and The Counting Principles\n",
    "---\n",
    "\n",
    "In a Survey of 120 People, it was found that:\n",
    "- 65 read Newsweek Magazine\n",
    "- 45 read Times Magazine\n",
    "- 42 read Fortune Magazine\n",
    "- 20 read Both Newsweek and Time\n",
    "- 25 read both Newsweek and Fortune\n",
    "- 15 read both Time and Fortune\n",
    "- 8 read all three magazines\n",
    "With these information do the following:<br>\n",
    "1. Draw the venn diagram using python.\n",
    "2. Find the number of people who read at $\\textbf{\"least one\"}$ of the three magazines.\n",
    "3. Find the number of people who read exactly one magazine.\n"
   ]
  },
  {
   "cell_type": "code",
   "execution_count": 22,
   "id": "68ae3456-6e65-429f-83c4-761e0c425424",
   "metadata": {},
   "outputs": [
    {
     "data": {
      "image/png": "[encoded data removed]",
      "text/plain": [
       "<Figure size 640x480 with 1 Axes>"
      ]
     },
     "metadata": {},
     "output_type": "display_data"
    }
   ],
   "source": [
    "N={65,20,25,8} \n",
    "T={45,20,15,8} \n",
    "F={42,25,15,8}\n",
    "\n",
    "venn = venn3(subsets=(len(N - T - F), len(T - N - F), len(N & T - F), len(F - N - T),\n",
    "                      len(N & F - T), len(T & F - N), len(N & T & F)),\n",
    "             set_labels=('Newsweek Magazine', 'Times Magazine', 'Fortune Magazine'))\n",
    "\n",
    "venn.get_label_by_id('100').set_text('28')\n",
    "\n",
    "venn.get_label_by_id('010').set_text('18')\n",
    "\n",
    "venn.get_label_by_id('110').set_text('12')\n",
    "\n",
    "venn.get_label_by_id('001').set_text('10')\n",
    "\n",
    "venn.get_label_by_id('101').set_text('17')\n",
    "\n",
    "venn.get_label_by_id('011').set_text('7')\n",
    "\n",
    "venn.get_label_by_id('111').set_text('8')"
   ]
  },
  {
   "cell_type": "markdown",
   "id": "d8feea7b-9d20-4c3d-a31f-b0a97a642ca2",
   "metadata": {},
   "source": [
    "$|N| = 65 $ <br>\n",
    "$|T| = 45 $ <br>\n",
    "$|F| = 42 $ <br>\n",
    "$|N \\cap T| = 20$<br>\n",
    "$|N \\cap F| = 25$<br>\n",
    "$|T \\cap F| = 15$<br>\n",
    "$|N \\cap T \\cap F| = 8$<br>\n",
    "<br>\n",
    "$|N \\cup T \\cup F|$<br>\n",
    "$|N \\cup T \\cup F| = |N| + |T| + |F| - |N \\cap T| - |N \\cap F| - |T\\cap F| + |N \\cap T \\cap F|$<br>\n",
    "$|N \\cup T \\cup F| = 65 + 45 + 42 - 25 - 20 - 15 + 8$<br>\n",
    "$|N \\cup T \\cup F| = 100$ People who read at least one of the three magazines."
   ]
  },
  {
   "cell_type": "markdown",
   "id": "34df625e-4379-4a26-9364-07c38b1d7b91",
   "metadata": {},
   "source": [
    "$|N|-|N \\cap T| - |N \\cap F| + |N \\cap T \\cap F|$<br>\n",
    "$|N|-|N \\cap T| - |N \\cap F| + |N \\cap T \\cap F| = 65 - 20 - 25 + 8$<br>\n",
    "$|N|-|N \\cap T| - |N \\cap F| + |N \\cap T \\cap F| = 28$ People who only read Newsweek <br>\n",
    "<br>\n",
    "$|T|-|N \\cap T| - |T \\cap F| + |N \\cap T \\cap F|$<br>\n",
    "$|T|-|N \\cap T| - |T \\cap F| + |N \\cap T \\cap F| = 45 - 20 - 15 + 8$<br>\n",
    "$|T|-|N \\cap T| - |T \\cap F| + |N \\cap T \\cap F| = 18$ People who only read Times<br>\n",
    "<br>\n",
    "$|F|-|T \\cap F| - |N \\cap F| + |N \\cap T \\cap F|$<br>\n",
    "$|F|-|T \\cap F| - |N \\cap F| + |N \\cap T \\cap F| = 42 - 15 - 25 + 8$<br>\n",
    "$|F|-|T \\cap F| - |N \\cap F| + |N \\cap T \\cap F| = 10$ People who only read Fortune<br>\n",
    "\n",
    "$28 + 18 + 10 = 56$ out of 120 people who read exactly one magazine."
   ]
  },
  {
   "cell_type": "markdown",
   "id": "282c11c1-4259-475d-9ec0-248b9dcaca42",
   "metadata": {},
   "source": [
    "In a survey of 25 new cars being sold at a local auto dealer was conducted to see which of the three popular options: air-conditioning, denoted as A; radio, denoted as R; and power windows, denoted as W were installed. The survey found that:\n",
    "- 15 had A. HINT: The condition said $\\textbf{\"had an A\"}$  <font color='red'>$\\textbf{ AND NOT}$ <font color='black'>$\\textbf{\"had an A only\"}$\n",
    "- 12 had R. HINT: The condition said $\\textbf{\"had a R\"}$  <font color='red'>$\\textbf{ AND NOT}$ <font color='black'>$\\textbf{\"had a R only\"}$\n",
    "- 11 had W. HINT: The condition said $\\textbf{\"had a W\"}$  <font color='red'>$\\textbf{ AND NOT}$ <font color='black'>$\\textbf{\"had a W only\"}$\n",
    "- 5 had A and W.\n",
    "- 9 had A and R.\n",
    "- 4 had R and W.\n",
    "- Only 3 hace the three options.\n",
    "With these information do the following:<br>\n",
    "1. Draw the venn diagram using python.<br>\n",
    "2. Find the number of cars with W only.<br>\n",
    "3. Find the number of cars with A only.<br>\n",
    "4. Find the number of cars with R only.<br>\n",
    "5. Find the number of cars with both R and W but not A.<br>\n",
    "6. Find the number of cars with both A and R but not W.<br>\n",
    "7. Find the number of cars with only one of the options.<br>\n",
    "8. Find the number of cars with at least one option.<br>\n",
    "9. Find the number of cars with none of the Options.<br>"
   ]
  },
  {
   "cell_type": "code",
   "execution_count": 26,
   "id": "421fc5d5-9e54-4cd6-97ae-89bdf7f00c99",
   "metadata": {},
   "outputs": [
    {
     "data": {
      "text/plain": [
       "<matplotlib_venn._common.VennDiagram at 0x1c8210a2610>"
      ]
     },
     "execution_count": 26,
     "metadata": {},
     "output_type": "execute_result"
    },
    {
     "data": {
      "image/png": "[encoded data removed]",
      "text/plain": [
       "<Figure size 640x480 with 1 Axes>"
      ]
     },
     "metadata": {},
     "output_type": "display_data"
    }
   ],
   "source": [
    "venn3(subsets = (15, 12, 9, 11, 5, 4, 3), set_labels = ('Air-conditioning', 'Radio', 'Power Windows'))"
   ]
  },
  {
   "cell_type": "markdown",
   "id": "d12f1d6f-db22-45ac-885b-80768f4c7507",
   "metadata": {},
   "source": [
    "$|A| = 15$<br>\n",
    "$|R| = 12$<br>\n",
    "$|W| = 11$<br>\n",
    "$|A \\cap W| = 5$<br>\n",
    "$|A \\cap R| = 9$<br>\n",
    "$|R \\cap W| = 4$<br>\n",
    "$|A \\cap W \\cap R| = 3$<br>\n",
    "$|U| = 25$<br>\n",
    "\n"
   ]
  },
  {
   "cell_type": "markdown",
   "id": "ac78fcc2-7d67-47c1-842f-2e6081c57451",
   "metadata": {},
   "source": [
    "2. Number of cars with W only:<br>\n",
    "$|W| - |W \\cap A| - |W \\cap R| + |W \\cap R \\cap A|$<br>\n",
    "$|W| - |W \\cap A| - |W \\cap R| + |W \\cap R \\cap A| = 11 - 5 - 4 + 3$<br>\n",
    "$|W| - |W \\cap A| - |W \\cap R| + |W \\cap R \\cap A| = 5$<br>\n",
    "<br>\n",
    "3. Number of cars with A only.<br>\n",
    "$|A| - |W \\cap A| - |A \\cap R| + |W \\cap R \\cap A|$<br>\n",
    "$|A| - |W \\cap A| - |A \\cap R| + |W \\cap R \\cap A| = 15 - 5 - 9 + 3$<br>\n",
    "$|A| - |W \\cap A| - |A \\cap R| + |W \\cap R \\cap A| = 4$<br>\n",
    "\n",
    "4. Number of cars with R only:<br>\n",
    "$|R| - |R \\cap A| - |R \\cap W| + |W \\cap R \\cap A|$<br>\n",
    "$|R| - |R \\cap A| - |R \\cap W| + |W \\cap R \\cap A| = 12 - 9 - 4 + 3$<br>\n",
    "$|R| - |R \\cap A| - |R \\cap W| + |W \\cap R \\cap A| =2$<br>\n",
    "<br>\n",
    "5. Number of cars with both A and R but not W:<br>\n",
    "$|W \\cap R| - |W \\cap R \\cap A|$<br>\n",
    "$|W \\cap R| - |W \\cap R \\cap A| = 4 - 3$<br>\n",
    "$|W \\cap R| - |W \\cap R \\cap A| = 1$<br>\n",
    "<br>\n",
    "6. Number of cars with both R and W but not A:<br>\n",
    "$|A \\cap R| - |W \\cap R \\cap A|$<br>\n",
    "$|A \\cap R| - |W \\cap R \\cap A| = 9 - 3$<br>\n",
    "$|A \\cap R| - |W \\cap R \\cap A| = 6$<br>\n",
    "<br>\n",
    "7. Number of cars with only one of the options:<br>\n",
    "$|A \\text{ only }| + |W \\text{ only }| + |R \\text{ only }|$<br>\n",
    "$|A \\text{ only }| + |W \\text{ only }| + |R \\text{ only }| = 5 + 4 + 2$<br>\n",
    "$|A \\text{ only }| + |W \\text{ only }| + |R \\text{ only }| = 11$<br>\n",
    "<br>\n",
    "8. Number of cars with at least one option:<br>\n",
    "$|A \\cup R \\cup W| = |A| + |R| + |W| - |A \\cap W| - |A \\cap R| - |W \\cap R| + |A \\cap W \\cap R|$<br>\n",
    "$|A \\cup R \\cup W| = |A| + |R| + |W| - |A \\cap W| - |A \\cap R| - |W \\cap R| + |A \\cap W \\cap R| = 15 + 11 + 12 - 5 - 9 - 4 + 3 = 23$<br>\n",
    "$|A \\cup R \\cup W| = |A| + |R| + |W| - |A \\cap W| - |A \\cap R| - |W \\cap R| + |A \\cap W \\cap R| = 23$<br>\n",
    "<br>\n",
    "9. Number of cars with none of the Options:<br>\n",
    "$|\\mathcal{U}| - |A \\cup R \\cup W|$<br>\n",
    "$|\\mathcal{U}| - |A \\cup R \\cup W| = 25 - 23$<br>\n",
    "$|\\mathcal{U}| - |A \\cup R \\cup W| = 2$"
   ]
  },
  {
   "cell_type": "code",
   "execution_count": null,
   "id": "3a9cce7e-48d5-4760-ab42-3409841b6528",
   "metadata": {},
   "outputs": [],
   "source": []
  }
 ],
 "metadata": {
  "kernelspec": {
   "display_name": "Python 3 (ipykernel)",
   "language": "python",
   "name": "python3"
  },
  "language_info": {
   "codemirror_mode": {
    "name": "ipython",
    "version": 3
   },
   "file_extension": ".py",
   "mimetype": "text/x-python",
   "name": "python",
   "nbconvert_exporter": "python",
   "pygments_lexer": "ipython3",
   "version": "3.11.4"
  }
 },
 "nbformat": 4,
 "nbformat_minor": 5
}
